{
 "cells": [
  {
   "cell_type": "markdown",
   "id": "b04a7bbc-f80c-485b-8ef0-306f60253582",
   "metadata": {
    "tags": []
   },
   "source": [
    "# Data Science Tools and Ecosystem"
   ]
  },
  {
   "cell_type": "markdown",
   "id": "0117c761-e75d-4e77-ac8e-797804194deb",
   "metadata": {},
   "source": [
    "In this notebook, Data Science Tools and Ecosystem are summarized."
   ]
  },
  {
   "cell_type": "markdown",
   "id": "58f97499-764b-4e0f-b431-b17761f6f9f4",
   "metadata": {
    "tags": []
   },
   "source": [
    "**Objectives:**\n",
    "- List the popular languages for DS\n",
    "- List some commonly used libreries for DS\n",
    "- List Data science tools\n",
    "- Show how to use arithmetic operators\n"
   ]
  },
  {
   "cell_type": "markdown",
   "id": "0a6ee397-0de4-47ad-94aa-a6b9f98ea77e",
   "metadata": {},
   "source": [
    "## Author\n",
    "Edwin Guerrero"
   ]
  },
  {
   "cell_type": "markdown",
   "id": "8f7e1a04-27f2-4786-86ca-90eab401f6fe",
   "metadata": {
    "tags": []
   },
   "source": [
    "Some of the popular languages that Data Scientist use are:\n",
    "1. Python \n",
    "2. R\n",
    "3. C "
   ]
  },
  {
   "cell_type": "markdown",
   "id": "499c6aea-8c68-4671-b3f4-12108490911a",
   "metadata": {
    "tags": []
   },
   "source": [
    "Some of the commonly used libraries used by Data Scientists include:\n",
    "1. Pandas\n",
    "2. NumPy\n",
    "3. SciPy"
   ]
  },
  {
   "cell_type": "markdown",
   "id": "75c11a1d-0545-4d7d-b08f-4b53ad7acb87",
   "metadata": {},
   "source": [
    "| Data Science Tools |\n",
    "|--------|\n",
    "| Anaconda |\n",
    "| Jupyter Lab |\n",
    "| Knime |"
   ]
  },
  {
   "cell_type": "markdown",
   "id": "58c818e6-e57e-424a-818c-86b9f819d9cc",
   "metadata": {},
   "source": [
    "### Below are a few examples of evaluating arithmetic expressions in Python"
   ]
  },
  {
   "cell_type": "code",
   "execution_count": 10,
   "id": "94d927d3-8505-418c-8e17-c5f5beafabd7",
   "metadata": {
    "tags": []
   },
   "outputs": [
    {
     "data": {
      "text/plain": [
       "17"
      ]
     },
     "execution_count": 10,
     "metadata": {},
     "output_type": "execute_result"
    }
   ],
   "source": [
    "#This a simple arithmetic expresion to multiply then add integers\n",
    "(3*4)+5"
   ]
  },
  {
   "cell_type": "code",
   "execution_count": 11,
   "id": "4f804e44-a085-44b9-b9a7-060b91eb5796",
   "metadata": {
    "tags": []
   },
   "outputs": [
    {
     "data": {
      "text/plain": [
       "3.3333333333333335"
      ]
     },
     "execution_count": 11,
     "metadata": {},
     "output_type": "execute_result"
    }
   ],
   "source": [
    "#This will convert 200 minutes to hours by dividing by 60\n",
    "200/60"
   ]
  },
  {
   "cell_type": "code",
   "execution_count": null,
   "id": "ac43490b-25a6-4226-ba26-dd8ba889e6bc",
   "metadata": {},
   "outputs": [],
   "source": []
  }
 ],
 "metadata": {
  "kernelspec": {
   "display_name": "Python",
   "language": "python",
   "name": "conda-env-python-py"
  },
  "language_info": {
   "codemirror_mode": {
    "name": "ipython",
    "version": 3
   },
   "file_extension": ".py",
   "mimetype": "text/x-python",
   "name": "python",
   "nbconvert_exporter": "python",
   "pygments_lexer": "ipython3",
   "version": "3.7.12"
  }
 },
 "nbformat": 4,
 "nbformat_minor": 5
}
